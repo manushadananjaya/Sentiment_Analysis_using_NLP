{
  "nbformat": 4,
  "nbformat_minor": 0,
  "metadata": {
    "colab": {
      "provenance": [],
      "authorship_tag": "ABX9TyOzp9ZsbifQizaGYQ1BWb56",
      "include_colab_link": true
    },
    "kernelspec": {
      "name": "python3",
      "display_name": "Python 3"
    },
    "language_info": {
      "name": "python"
    }
  },
  "cells": [
    {
      "cell_type": "markdown",
      "metadata": {
        "id": "view-in-github",
        "colab_type": "text"
      },
      "source": [
        "<a href=\"https://colab.research.google.com/github/manushadananjaya/Sentiment_Analysis_using_NLP/blob/manu-dev-new/Sentiment_Analysis_using_NLP.ipynb\" target=\"_parent\"><img src=\"https://colab.research.google.com/assets/colab-badge.svg\" alt=\"Open In Colab\"/></a>"
      ]
    },
    {
      "cell_type": "code",
      "execution_count": 1,
      "metadata": {
        "id": "lTxB_Mv1lrer"
      },
      "outputs": [],
      "source": [
        "import pandas as pd\n",
        "\n",
        "df = pd.read_csv('Tweets.csv')\n",
        "\n",
        "# Drop unnecessary columns\n",
        "df = df[[\"airline_sentiment\", \"text\"]]\n"
      ]
    },
    {
      "cell_type": "code",
      "source": [
        "import nltk\n",
        "import string\n",
        "import re\n",
        "from nltk.stem.porter import PorterStemmer\n",
        "from nltk.corpus import stopwords\n",
        "\n",
        "# Download necessary resources\n",
        "nltk.download('stopwords')\n",
        "nltk.download('punkt')\n",
        "\n",
        "# Initialize Porter Stemmer\n",
        "ps = PorterStemmer()\n",
        "\n",
        "# Define clean_text function\n",
        "def clean_text(text):\n",
        "    text = text.lower()  # Convert text to lowercase\n",
        "    text = re.sub(r'http.?://[^\\s]+[\\s]?', '', text)  # Remove URLs\n",
        "    text = nltk.word_tokenize(text)  # Tokenize text\n",
        "    y = []\n",
        "    for i in text:\n",
        "        if i not in stopwords.words('english'):  # Remove stopwords\n",
        "            y.append(i)\n",
        "    text = y[:]\n",
        "    y.clear()\n",
        "    for i in text:\n",
        "        y.append(ps.stem(i))  # Apply stemming\n",
        "    return \" \".join(y)\n",
        "\n",
        "# Apply clean_text function to text column\n",
        "df['text_cleaned'] = df['text'].apply(clean_text)\n"
      ],
      "metadata": {
        "colab": {
          "base_uri": "https://localhost:8080/"
        },
        "id": "syHqDjjMnSq0",
        "outputId": "603a71c7-faa6-4824-9580-401ce3ed9b7c"
      },
      "execution_count": 5,
      "outputs": [
        {
          "output_type": "stream",
          "name": "stderr",
          "text": [
            "[nltk_data] Downloading package stopwords to /root/nltk_data...\n",
            "[nltk_data]   Package stopwords is already up-to-date!\n",
            "[nltk_data] Downloading package punkt to /root/nltk_data...\n",
            "[nltk_data]   Package punkt is already up-to-date!\n"
          ]
        }
      ]
    },
    {
      "cell_type": "code",
      "source": [
        "from sklearn.feature_extraction.text import TfidfVectorizer\n",
        "\n",
        "tf_vec = TfidfVectorizer(max_features=3000)\n",
        "X = tf_vec.fit_transform(df['text_cleaned']).toarray()"
      ],
      "metadata": {
        "id": "v_H__KXinrnY"
      },
      "execution_count": 6,
      "outputs": []
    },
    {
      "cell_type": "code",
      "source": [
        "# Applying clean_text function to the first tweet\n",
        "cleaned_text = clean_text(df['text'][0])\n",
        "print(cleaned_text)\n"
      ],
      "metadata": {
        "colab": {
          "base_uri": "https://localhost:8080/"
        },
        "id": "sw-ho3Lf7khI",
        "outputId": "9338c30f-b91c-45c5-8d4f-eb6563e351f0"
      },
      "execution_count": 14,
      "outputs": [
        {
          "output_type": "stream",
          "name": "stdout",
          "text": [
            "@ virginamerica @ dhepburn said .\n"
          ]
        }
      ]
    },
    {
      "cell_type": "code",
      "source": [
        "sentiment_counts = df.groupby(\"airline_sentiment\").describe()\n",
        "\n",
        "# Printing the size of each group\n",
        "print(sentiment_counts)"
      ],
      "metadata": {
        "colab": {
          "base_uri": "https://localhost:8080/"
        },
        "id": "ZrW71StRpY_j",
        "outputId": "374c278d-6b51-42a2-a535-8d7a0d2ae28e"
      },
      "execution_count": 12,
      "outputs": [
        {
          "output_type": "stream",
          "name": "stdout",
          "text": [
            "                   text         \\\n",
            "                  count unique   \n",
            "airline_sentiment                \n",
            "negative           9178   9087   \n",
            "neutral            3099   3067   \n",
            "positive           2363   2298   \n",
            "\n",
            "                                                                           \\\n",
            "                                                                 top freq   \n",
            "airline_sentiment                                                           \n",
            "negative           @AmericanAir that's 16+ extra hours of travel ...    2   \n",
            "neutral                                           @SouthwestAir sent    5   \n",
            "positive                                            @JetBlue thanks!    5   \n",
            "\n",
            "                  text_cleaned         \\\n",
            "                         count unique   \n",
            "airline_sentiment                       \n",
            "negative                  9178   9083   \n",
            "neutral                   3099   3025   \n",
            "positive                  2363   2262   \n",
            "\n",
            "                                                                           \n",
            "                                                                 top freq  \n",
            "airline_sentiment                                                          \n",
            "negative           @ americanair fyi ... call still get drop . ho...    2  \n",
            "neutral            @ jetblu 's ceo battl appeas passeng wall stre...    8  \n",
            "positive                                            @ jetblu thank !   12  \n"
          ]
        }
      ]
    },
    {
      "cell_type": "code",
      "source": [
        "df.shape"
      ],
      "metadata": {
        "colab": {
          "base_uri": "https://localhost:8080/"
        },
        "id": "IoeDIYT7odHB",
        "outputId": "da6c5d26-f88e-47bc-edef-92701493c601"
      },
      "execution_count": 8,
      "outputs": [
        {
          "output_type": "execute_result",
          "data": {
            "text/plain": [
              "(14640, 3)"
            ]
          },
          "metadata": {},
          "execution_count": 8
        }
      ]
    },
    {
      "cell_type": "code",
      "source": [
        "Y = df['airline_sentiment'].values"
      ],
      "metadata": {
        "id": "vEsj0YPKoCy4"
      },
      "execution_count": 7,
      "outputs": []
    },
    {
      "cell_type": "code",
      "source": [
        "df.shape"
      ],
      "metadata": {
        "colab": {
          "base_uri": "https://localhost:8080/"
        },
        "id": "HsRS62YGoitW",
        "outputId": "91cef8f6-bbe2-4f2e-a5a5-a6693a5b5369"
      },
      "execution_count": 9,
      "outputs": [
        {
          "output_type": "execute_result",
          "data": {
            "text/plain": [
              "(14640, 3)"
            ]
          },
          "metadata": {},
          "execution_count": 9
        }
      ]
    },
    {
      "cell_type": "code",
      "source": [
        "sentiment_counts = df.groupby(\"airline_sentiment\").describe()\n",
        "\n",
        "# Printing the size of each group\n",
        "print(sentiment_counts)"
      ],
      "metadata": {
        "colab": {
          "base_uri": "https://localhost:8080/"
        },
        "id": "goYI54iLptQ5",
        "outputId": "03619319-f84f-4b55-dbc6-633946efdcee"
      },
      "execution_count": 13,
      "outputs": [
        {
          "output_type": "stream",
          "name": "stdout",
          "text": [
            "                   text         \\\n",
            "                  count unique   \n",
            "airline_sentiment                \n",
            "negative           9178   9087   \n",
            "neutral            3099   3067   \n",
            "positive           2363   2298   \n",
            "\n",
            "                                                                           \\\n",
            "                                                                 top freq   \n",
            "airline_sentiment                                                           \n",
            "negative           @AmericanAir that's 16+ extra hours of travel ...    2   \n",
            "neutral                                           @SouthwestAir sent    5   \n",
            "positive                                            @JetBlue thanks!    5   \n",
            "\n",
            "                  text_cleaned         \\\n",
            "                         count unique   \n",
            "airline_sentiment                       \n",
            "negative                  9178   9083   \n",
            "neutral                   3099   3025   \n",
            "positive                  2363   2262   \n",
            "\n",
            "                                                                           \n",
            "                                                                 top freq  \n",
            "airline_sentiment                                                          \n",
            "negative           @ americanair fyi ... call still get drop . ho...    2  \n",
            "neutral            @ jetblu 's ceo battl appeas passeng wall stre...    8  \n",
            "positive                                            @ jetblu thank !   12  \n"
          ]
        }
      ]
    },
    {
      "cell_type": "code",
      "source": [
        "from sklearn.model_selection import train_test_split\n",
        "from sklearn.feature_extraction.text import CountVectorizer\n",
        "from sklearn.naive_bayes import MultinomialNB\n",
        "from sklearn.metrics import accuracy_score\n",
        "from sklearn.ensemble import RandomForestClassifier\n",
        "\n",
        "# Splitting the dataset into training and testing sets\n",
        "X = df['text_cleaned']  # Features\n",
        "y = df['airline_sentiment']  # Target variable\n",
        "\n",
        "X_train, X_test, y_train, y_test = train_test_split(X, y, test_size=0.2, random_state=2)\n",
        "\n",
        "# Vectorizing the text data\n",
        "vectorizer = CountVectorizer()\n",
        "X_train_counts = vectorizer.fit_transform(X_train)\n",
        "X_test_counts = vectorizer.transform(X_test)\n",
        "\n",
        "# Training a multinomial Naïve Bayes classifier\n",
        "nb_classifier = MultinomialNB()\n",
        "nb_classifier.fit(X_train_counts, y_train)\n",
        "\n",
        "# Predicting the sentiment of tweets in the test dataset\n",
        "nb_y_pred = nb_classifier.predict(X_test_counts)\n",
        "\n",
        "# Finding the accuracy of the Naïve Bayes model\n",
        "nb_accuracy = accuracy_score(y_test, nb_y_pred)\n",
        "print(\"Multinomial Naïve Bayes Classifier Accuracy:\", nb_accuracy)\n",
        "\n",
        "# Training a Random Forest classifier\n",
        "rf_classifier = RandomForestClassifier()\n",
        "rf_classifier.fit(X_train_counts, y_train)\n",
        "\n",
        "# Predicting the sentiment of tweets in the test dataset using Random Forest classifier\n",
        "rf_y_pred = rf_classifier.predict(X_test_counts)\n",
        "\n",
        "# Finding the accuracy of the Random Forest model\n",
        "rf_accuracy = accuracy_score(y_test, rf_y_pred)\n",
        "print(\"Random Forest Classifier Accuracy:\", rf_accuracy)\n"
      ],
      "metadata": {
        "colab": {
          "base_uri": "https://localhost:8080/"
        },
        "id": "xtFnyinXo148",
        "outputId": "e42e6c94-5fac-4c7e-af8d-b5ca73e30af3"
      },
      "execution_count": 10,
      "outputs": [
        {
          "output_type": "stream",
          "name": "stdout",
          "text": [
            "Multinomial Naïve Bayes Classifier Accuracy: 0.7513661202185792\n",
            "Random Forest Classifier Accuracy: 0.7564890710382514\n"
          ]
        }
      ]
    }
  ]
}